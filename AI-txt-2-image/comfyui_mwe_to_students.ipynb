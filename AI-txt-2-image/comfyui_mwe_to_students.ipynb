{
  "nbformat": 4,
  "nbformat_minor": 0,
  "metadata": {
    "colab": {
      "provenance": [],
      "gpuType": "T4"
    },
    "kernelspec": {
      "name": "python3",
      "display_name": "Python 3"
    },
    "language_info": {
      "name": "python"
    },
    "accelerator": "GPU"
  },
  "cells": [
    {
      "cell_type": "code",
      "execution_count": null,
      "metadata": {
        "id": "nQkGe5pBWCrK"
      },
      "outputs": [],
      "source": [
        "# Step 0 — Mandatory environment prep (Colab)\n",
        "%cd /content\n",
        "!apt-get update -y\n",
        "!apt-get install -y aria2\n",
        "\n",
        "# Step 1 — Clone ComfyUI\n",
        "%cd /content\n",
        "!git clone https://github.com/comfyanonymous/ComfyUI.git\n",
        "%cd /content/ComfyUI\n",
        "\n",
        "# Step 2 — Python dependencies\n",
        "!pip install -q -r requirements.txt\n",
        "!pip install -q --upgrade ultralytics\n",
        "!pip install -q huggingface_hub ipywidgets hf_transfer imageio-ffmpeg\n",
        "%env HF_HUB_ENABLE_HF_TRANSFER=1\n",
        "\n",
        "# Step 3 — Custom nodes: ComfyUI-Manager\n",
        "%cd /content/ComfyUI/custom_nodes\n",
        "!git clone https://github.com/ltdrdata/ComfyUI-Manager.git\n",
        "%cd /content/ComfyUI/custom_nodes/ComfyUI-Manager\n",
        "!pip install -q -r requirements.txt\n",
        "\n",
        "# Step 4 — Download YOLO model file used by ADetailer-like workflows\n",
        "%cd /content\n",
        "!mkdir -p /content/temp/models/yolov8\n",
        "%cd /content/temp/models/yolov8\n",
        "url=\"https://huggingface.co/Bingsu/adetailer/resolve/main/face_yolov9c.pt\"\n",
        "!aria2c -x 16 -s 16 -o face_yolov9c.pt \"$url\" || wget -O face_yolov9c.pt \"$url\"\n",
        "!ls -lh\n",
        "\n",
        "# (Optional) Run ComfyUI locally in Colab\n",
        "# Note: You’ll need a tunnel (e.g., ngrok) for external access if desired."
      ]
    },
    {
      "cell_type": "code",
      "source": [
        "!pip install flask\n",
        "!pip install pyngrok"
      ],
      "metadata": {
        "id": "6mgyl9Y3dsUI"
      },
      "execution_count": null,
      "outputs": []
    },
    {
      "cell_type": "code",
      "source": [
        "%cd /content/ComfyUI/models/checkpoints\n",
        "!wget https://huggingface.co/SG161222/Realistic_Vision_V6.0_B1_noVAE/resolve/main/Realistic_Vision_V6.0_NV_B1_fp16.safetensors -O realvis.safetensors"
      ],
      "metadata": {
        "id": "3h25DxoVfN64"
      },
      "execution_count": null,
      "outputs": []
    },
    {
      "cell_type": "code",
      "source": [
        "#Step 3 - repeat this step whenever you launch / re-launch Comfyui\n",
        "## First put your ngrok token to the below and then run this code\n",
        "## It will give a link like this at below : https://2fc5-34-134-226-xxx.ngrok-free.app\n",
        "## Open it and then run web ui and once web ui started that link will start working\n",
        "import os\n",
        "import threading\n",
        "\n",
        "from flask import Flask\n",
        "from pyngrok import ngrok, conf\n",
        "## Go to ngrok.com and get your api key, past below\n",
        "conf.get_default().auth_token = \"YOUR_KEY_HERE\"\n",
        "\n",
        "os.environ[\"FLASK_ENV\"] = \"development\"\n",
        "\n",
        "app = Flask(__name__)\n",
        "\n",
        "public_url = ngrok.connect(8188).public_url\n",
        "print(\" * ngrok tunnel \\\"{}\\\" -> \\\"http://0.0.0.0:{}/\\\"\".format(public_url, 8188))\n",
        "\n",
        "app.config[\"BASE_URL\"] = public_url\n",
        "\n",
        "@app.route(\"/\")\n",
        "def index():\n",
        "    return \"Hello from Colab!\"\n",
        "\n",
        "threading.Thread(target=app.run, kwargs={\"use_reloader\": False}).start()"
      ],
      "metadata": {
        "id": "Sojj7VWHedIJ"
      },
      "execution_count": null,
      "outputs": []
    },
    {
      "cell_type": "code",
      "source": [
        "%cd /content/ComfyUI\n",
        "!python main.py --listen 0.0.0.0 --port 8188"
      ],
      "metadata": {
        "id": "h2fj-oLeeaFH"
      },
      "execution_count": null,
      "outputs": []
    }
  ]
}